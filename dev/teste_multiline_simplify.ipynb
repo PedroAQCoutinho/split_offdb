{
 "cells": [
  {
   "cell_type": "code",
   "execution_count": 46,
   "metadata": {},
   "outputs": [
    {
     "data": {
      "text/plain": [
       "'/home/pedro/Documents/GIT_WORKSPACE/split_offdb'"
      ]
     },
     "execution_count": 46,
     "metadata": {},
     "output_type": "execute_result"
    }
   ],
   "source": [
    "import geopandas as gpd\n",
    "from shapely.geometry import LineString, MultiLineString, MultiPolygon, Polygon\n",
    "from shapely.ops import unary_union, split, linemerge, polygonize\n",
    "import shapely as shp\n",
    "import pandas as pd\n",
    "import networkx as nx \n",
    "import re\n",
    "import os\n",
    "import numpy as np\n",
    "os.chdir('/home/pedro/Documents/GIT_WORKSPACE/split_offdb')\n",
    "os.getcwd()"
   ]
  },
  {
   "cell_type": "code",
   "execution_count": 29,
   "metadata": {},
   "outputs": [],
   "source": [
    "#Carregar grid\n",
    "grid_gdf = gpd.read_parquet('inputs/grid.parquet')\n",
    "\n",
    "# Carregar o arquivo de entrada\n",
    "input_gdf = gpd.read_parquet('inputs/input.parquet')\n"
   ]
  },
  {
   "cell_type": "code",
   "execution_count": 32,
   "metadata": {},
   "outputs": [
    {
     "data": {
      "text/html": [
       "<div>\n",
       "<style scoped>\n",
       "    .dataframe tbody tr th:only-of-type {\n",
       "        vertical-align: middle;\n",
       "    }\n",
       "\n",
       "    .dataframe tbody tr th {\n",
       "        vertical-align: top;\n",
       "    }\n",
       "\n",
       "    .dataframe thead th {\n",
       "        text-align: right;\n",
       "    }\n",
       "</style>\n",
       "<table border=\"1\" class=\"dataframe\">\n",
       "  <thead>\n",
       "    <tr style=\"text-align: right;\">\n",
       "      <th></th>\n",
       "      <th>id</th>\n",
       "      <th>id_layer</th>\n",
       "      <th>geom</th>\n",
       "    </tr>\n",
       "  </thead>\n",
       "  <tbody>\n",
       "    <tr>\n",
       "      <th>0</th>\n",
       "      <td>193206</td>\n",
       "      <td>CAR</td>\n",
       "      <td>MULTIPOLYGON (((-44.25014 -2.65343, -44.24987 ...</td>\n",
       "    </tr>\n",
       "    <tr>\n",
       "      <th>1</th>\n",
       "      <td>182433</td>\n",
       "      <td>CAR</td>\n",
       "      <td>MULTIPOLYGON (((-44.23856 -2.65714, -44.23862 ...</td>\n",
       "    </tr>\n",
       "    <tr>\n",
       "      <th>2</th>\n",
       "      <td>349580</td>\n",
       "      <td>CAR</td>\n",
       "      <td>MULTIPOLYGON (((-44.24801 -2.68644, -44.24846 ...</td>\n",
       "    </tr>\n",
       "    <tr>\n",
       "      <th>3</th>\n",
       "      <td>337735</td>\n",
       "      <td>CAR</td>\n",
       "      <td>MULTIPOLYGON (((-44.19677 -2.66368, -44.19757 ...</td>\n",
       "    </tr>\n",
       "    <tr>\n",
       "      <th>4</th>\n",
       "      <td>176811</td>\n",
       "      <td>CAR</td>\n",
       "      <td>MULTIPOLYGON (((-44.25887 -2.66707, -44.25887 ...</td>\n",
       "    </tr>\n",
       "    <tr>\n",
       "      <th>...</th>\n",
       "      <td>...</td>\n",
       "      <td>...</td>\n",
       "      <td>...</td>\n",
       "    </tr>\n",
       "    <tr>\n",
       "      <th>353346</th>\n",
       "      <td>249875</td>\n",
       "      <td>CAR</td>\n",
       "      <td>MULTIPOLYGON (((-44.29129 -2.64609, -44.29125 ...</td>\n",
       "    </tr>\n",
       "    <tr>\n",
       "      <th>353347</th>\n",
       "      <td>208346</td>\n",
       "      <td>CAR</td>\n",
       "      <td>MULTIPOLYGON (((-44.27422 -2.6458, -44.27402 -...</td>\n",
       "    </tr>\n",
       "    <tr>\n",
       "      <th>353348</th>\n",
       "      <td>288981</td>\n",
       "      <td>CAR</td>\n",
       "      <td>MULTIPOLYGON (((-44.25486 -2.66914, -44.25484 ...</td>\n",
       "    </tr>\n",
       "    <tr>\n",
       "      <th>353349</th>\n",
       "      <td>249899</td>\n",
       "      <td>CAR</td>\n",
       "      <td>MULTIPOLYGON (((-44.29106 -2.64668, -44.29134 ...</td>\n",
       "    </tr>\n",
       "    <tr>\n",
       "      <th>353350</th>\n",
       "      <td>135123</td>\n",
       "      <td>CAR</td>\n",
       "      <td>MULTIPOLYGON (((-44.23979 -2.71852, -44.23972 ...</td>\n",
       "    </tr>\n",
       "  </tbody>\n",
       "</table>\n",
       "<p>13601 rows × 3 columns</p>\n",
       "</div>"
      ],
      "text/plain": [
       "            id id_layer                                               geom\n",
       "0       193206      CAR  MULTIPOLYGON (((-44.25014 -2.65343, -44.24987 ...\n",
       "1       182433      CAR  MULTIPOLYGON (((-44.23856 -2.65714, -44.23862 ...\n",
       "2       349580      CAR  MULTIPOLYGON (((-44.24801 -2.68644, -44.24846 ...\n",
       "3       337735      CAR  MULTIPOLYGON (((-44.19677 -2.66368, -44.19757 ...\n",
       "4       176811      CAR  MULTIPOLYGON (((-44.25887 -2.66707, -44.25887 ...\n",
       "...        ...      ...                                                ...\n",
       "353346  249875      CAR  MULTIPOLYGON (((-44.29129 -2.64609, -44.29125 ...\n",
       "353347  208346      CAR  MULTIPOLYGON (((-44.27422 -2.6458, -44.27402 -...\n",
       "353348  288981      CAR  MULTIPOLYGON (((-44.25486 -2.66914, -44.25484 ...\n",
       "353349  249899      CAR  MULTIPOLYGON (((-44.29106 -2.64668, -44.29134 ...\n",
       "353350  135123      CAR  MULTIPOLYGON (((-44.23979 -2.71852, -44.23972 ...\n",
       "\n",
       "[13601 rows x 3 columns]"
      ]
     },
     "execution_count": 32,
     "metadata": {},
     "output_type": "execute_result"
    }
   ],
   "source": [
    "unidade_split = grid_gdf[grid_gdf[\"grid_id\"] == 187].geometry.values[0] \n",
    "gdf_input_intersection = input_gdf[input_gdf.intersects(unidade_split)]\n",
    "gdf_input_intersection\n",
    "  "
   ]
  },
  {
   "cell_type": "code",
   "execution_count": 39,
   "metadata": {},
   "outputs": [],
   "source": [
    "lines = []\n",
    "\n",
    "for geom in gdf_input_intersection.geometry:\n",
    "    merged_line = linemerge(geom.boundary)\n",
    "    \n",
    "    if isinstance(merged_line, MultiLineString):\n",
    "        \n",
    "        # Se for MultiLineString, combinar seus pontos em uma única LineString\n",
    "        points = []\n",
    "        for line in merged_line.geoms:\n",
    "            points.extend(line.coords)  # Extrai coordenadas de cada LineString\n",
    "        \n",
    "        # Cria uma nova LineString com todos os pontos\n",
    "        merged_line = LineString(points)\n",
    "        \n",
    "    lines.append(merged_line)\n",
    "lines.append(unidade_split.boundary)"
   ]
  },
  {
   "cell_type": "code",
   "execution_count": 66,
   "metadata": {},
   "outputs": [],
   "source": [
    "# Cria o MultiLineString a partir das linhas\n",
    "multi_line = MultiLineString(lines) \n",
    "multi_line = gpd.GeoDataFrame(geometry=[multi_line], crs = \"EPSG:4674\")\n",
    "multi_line.to_file('dev/multi_line.geojson', driver = 'GeoJSON')\n",
    "\n",
    "multi_line = MultiLineString(lines) \n",
    "\n",
    "multi_line = gpd.GeoDataFrame(geometry=[multi_line], crs = \"EPSG:4674\")\n",
    "multi_line.to_file('dev/multi_line_simplified.geojson', driver = 'GeoJSON')\n",
    "# Usa shapely.node para adicionar nós (pontos de interseção) ao MultiLineString\n",
    "#multi_line_with_nodes = shp.node(multi_line)"
   ]
  },
  {
   "cell_type": "code",
   "execution_count": 67,
   "metadata": {},
   "outputs": [],
   "source": [
    "multi_line_with_nodes = shp.node(multi_line)"
   ]
  }
 ],
 "metadata": {
  "kernelspec": {
   "display_name": "_split_offdb",
   "language": "python",
   "name": "python3"
  },
  "language_info": {
   "codemirror_mode": {
    "name": "ipython",
    "version": 3
   },
   "file_extension": ".py",
   "mimetype": "text/x-python",
   "name": "python",
   "nbconvert_exporter": "python",
   "pygments_lexer": "ipython3",
   "version": "3.10.12"
  }
 },
 "nbformat": 4,
 "nbformat_minor": 2
}
