{
 "cells": [
  {
   "cell_type": "code",
   "execution_count": 1,
   "metadata": {},
   "outputs": [],
   "source": [
    "import sqlite3\n",
    "import geopandas as gpd\n",
    "import pandas as pd"
   ]
  },
  {
   "cell_type": "code",
   "execution_count": 31,
   "metadata": {},
   "outputs": [
    {
     "data": {
      "text/html": [
       "<div>\n",
       "<style scoped>\n",
       "    .dataframe tbody tr th:only-of-type {\n",
       "        vertical-align: middle;\n",
       "    }\n",
       "\n",
       "    .dataframe tbody tr th {\n",
       "        vertical-align: top;\n",
       "    }\n",
       "\n",
       "    .dataframe thead th {\n",
       "        text-align: right;\n",
       "    }\n",
       "</style>\n",
       "<table border=\"1\" class=\"dataframe\">\n",
       "  <thead>\n",
       "    <tr style=\"text-align: right;\">\n",
       "      <th></th>\n",
       "      <th>minx</th>\n",
       "      <th>miny</th>\n",
       "      <th>maxx</th>\n",
       "      <th>maxy</th>\n",
       "    </tr>\n",
       "  </thead>\n",
       "  <tbody>\n",
       "    <tr>\n",
       "      <th>17</th>\n",
       "      <td>-37.0</td>\n",
       "      <td>-10.0</td>\n",
       "      <td>-36.5</td>\n",
       "      <td>-9.5</td>\n",
       "    </tr>\n",
       "  </tbody>\n",
       "</table>\n",
       "</div>"
      ],
      "text/plain": [
       "    minx  miny  maxx  maxy\n",
       "17 -37.0 -10.0 -36.5  -9.5"
      ]
     },
     "execution_count": 31,
     "metadata": {},
     "output_type": "execute_result"
    }
   ],
   "source": [
    "# Conectar ao GeoPackage usando sqlite3\n",
    "conn = sqlite3.connect('/home/pedro/Documents/GIT_WORKSPACE/split_offdb/inputs/input.gpkg')\n",
    "conn.enable_load_extension(True)\n",
    "conn.execute(\"SELECT load_extension('mod_spatialite');\")"
   ]
  },
  {
   "cell_type": "code",
   "execution_count": 47,
   "metadata": {},
   "outputs": [
    {
     "data": {
      "text/plain": [
       "'POLYGON ((-37 -10, -37 -9.5, -36.5 -9.5, -36.5 -10, -37 -10))'"
      ]
     },
     "execution_count": 47,
     "metadata": {},
     "output_type": "execute_result"
    }
   ],
   "source": [
    "grid_gdf=gpd.read_parquet('/home/pedro/Documents/GIT_WORKSPACE/split_offdb/inputs/grid.parquet')\n",
    "polygon = grid_gdf.loc[grid_gdf['grid_id'] == 18, 'geom'].iloc[0]\n",
    "polygon_wkt=polygon.wkt\n",
    "polygon_wkt\n"
   ]
  },
  {
   "cell_type": "code",
   "execution_count": 64,
   "metadata": {},
   "outputs": [
    {
     "data": {
      "text/plain": [
       "\"\\nSELECT id, id_layer, AsText(geom) geom\\nFROM input\\nWHERE ST_Intersects(\\n    geom,\\n    ST_PolygonFromText('POLYGON ((-37 -10, -37 -9.5, -36.5 -9.5, -36.5 -10, -37 -10))', 4674)\\n);\\n\""
      ]
     },
     "execution_count": 64,
     "metadata": {},
     "output_type": "execute_result"
    }
   ],
   "source": [
    "# Criar consulta SQL com ST_Intersects e WKT\n",
    "sql_query = f\"\"\"\n",
    "SELECT id, id_layer, AsText(geom) geom\n",
    "FROM input\n",
    "WHERE ST_Intersects(\n",
    "    geom,\n",
    "    ST_PolygonFromText('{polygon_wkt}', 4674)\n",
    ");\n",
    "\"\"\"\n",
    "sql_query\n"
   ]
  },
  {
   "cell_type": "code",
   "execution_count": 68,
   "metadata": {},
   "outputs": [],
   "source": [
    "# Carregar os resultados em um GeoDataFrame\n",
    "gdf = gpd.read_postgis(sql_query, conn, geom_col=\"geom\")"
   ]
  },
  {
   "cell_type": "code",
   "execution_count": 70,
   "metadata": {},
   "outputs": [
    {
     "data": {
      "text/plain": [
       "130111"
      ]
     },
     "execution_count": 70,
     "metadata": {},
     "output_type": "execute_result"
    }
   ],
   "source": [
    "len(gdf)"
   ]
  },
  {
   "cell_type": "code",
   "execution_count": null,
   "metadata": {},
   "outputs": [],
   "source": []
  }
 ],
 "metadata": {
  "kernelspec": {
   "display_name": "_split_offdb",
   "language": "python",
   "name": "python3"
  },
  "language_info": {
   "codemirror_mode": {
    "name": "ipython",
    "version": 3
   },
   "file_extension": ".py",
   "mimetype": "text/x-python",
   "name": "python",
   "nbconvert_exporter": "python",
   "pygments_lexer": "ipython3",
   "version": "3.10.12"
  }
 },
 "nbformat": 4,
 "nbformat_minor": 2
}
