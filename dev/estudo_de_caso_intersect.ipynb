{
 "cells": [
  {
   "cell_type": "code",
   "execution_count": 129,
   "metadata": {},
   "outputs": [],
   "source": [
    "import shapely as shp\n",
    "from shapely.geometry import LineString, MultiPolygon, MultiLineString, LinearRing, Point, Polygon\n",
    "from shapely.ops import linemerge,polygonize\n",
    "import geopandas as gpd\n",
    "import numpy as np"
   ]
  },
  {
   "cell_type": "code",
   "execution_count": 132,
   "metadata": {},
   "outputs": [
    {
     "data": {
      "image/svg+xml": [
       "<svg xmlns=\"http://www.w3.org/2000/svg\" xmlns:xlink=\"http://www.w3.org/1999/xlink\" width=\"100.0\" height=\"100.0\" viewBox=\"-36.52 -9.52 0.5400000000000063 0.5399999999999991\" preserveAspectRatio=\"xMinYMin meet\"><g transform=\"matrix(1,0,0,-1,0,-18.5)\"><path fill-rule=\"evenodd\" fill=\"#66cc99\" stroke=\"#555555\" stroke-width=\"0.010800000000000125\" opacity=\"0.6\" d=\"M -36.5,-9.5 L -36.5,-9.0 L -36.0,-9.0 L -36.0,-9.5 L -36.5,-9.5 z\" /></g></svg>"
      ],
      "text/plain": [
       "<POLYGON ((-36.5 -9.5, -36.5 -9, -36 -9, -36 -9.5, -36.5 -9.5))>"
      ]
     },
     "execution_count": 132,
     "metadata": {},
     "output_type": "execute_result"
    }
   ],
   "source": [
    "grid_gdf=gpd.read_parquet('/home/pedro/Documents/GIT_WORKSPACE/split_offdb/inputs/grid.parquet')\n",
    "unidade_split = grid_gdf[grid_gdf[\"grid_id\"] == 24].geometry.values[0]\n",
    "unidade_split"
   ]
  },
  {
   "cell_type": "code",
   "execution_count": 133,
   "metadata": {},
   "outputs": [
    {
     "data": {
      "text/html": [
       "<div>\n",
       "<style scoped>\n",
       "    .dataframe tbody tr th:only-of-type {\n",
       "        vertical-align: middle;\n",
       "    }\n",
       "\n",
       "    .dataframe tbody tr th {\n",
       "        vertical-align: top;\n",
       "    }\n",
       "\n",
       "    .dataframe thead th {\n",
       "        text-align: right;\n",
       "    }\n",
       "</style>\n",
       "<table border=\"1\" class=\"dataframe\">\n",
       "  <thead>\n",
       "    <tr style=\"text-align: right;\">\n",
       "      <th></th>\n",
       "      <th>id</th>\n",
       "      <th>id_layer</th>\n",
       "      <th>geom</th>\n",
       "    </tr>\n",
       "  </thead>\n",
       "  <tbody>\n",
       "    <tr>\n",
       "      <th>0</th>\n",
       "      <td>56285</td>\n",
       "      <td>CAR</td>\n",
       "      <td>MULTIPOLYGON (((-36.73056 -9.49319, -36.72995 ...</td>\n",
       "    </tr>\n",
       "    <tr>\n",
       "      <th>1</th>\n",
       "      <td>56286</td>\n",
       "      <td>CAR</td>\n",
       "      <td>MULTIPOLYGON (((-36.73972 -9.49228, -36.73828 ...</td>\n",
       "    </tr>\n",
       "    <tr>\n",
       "      <th>2</th>\n",
       "      <td>56287</td>\n",
       "      <td>CAR</td>\n",
       "      <td>MULTIPOLYGON (((-36.73341 -9.49867, -36.7327 -...</td>\n",
       "    </tr>\n",
       "    <tr>\n",
       "      <th>3</th>\n",
       "      <td>56894</td>\n",
       "      <td>CAR</td>\n",
       "      <td>MULTIPOLYGON (((-36.65406 -9.59078, -36.65379 ...</td>\n",
       "    </tr>\n",
       "    <tr>\n",
       "      <th>4</th>\n",
       "      <td>58371</td>\n",
       "      <td>CAR</td>\n",
       "      <td>MULTIPOLYGON (((-37.50167 -9.29629, -37.5036 -...</td>\n",
       "    </tr>\n",
       "  </tbody>\n",
       "</table>\n",
       "</div>"
      ],
      "text/plain": [
       "      id id_layer                                               geom\n",
       "0  56285      CAR  MULTIPOLYGON (((-36.73056 -9.49319, -36.72995 ...\n",
       "1  56286      CAR  MULTIPOLYGON (((-36.73972 -9.49228, -36.73828 ...\n",
       "2  56287      CAR  MULTIPOLYGON (((-36.73341 -9.49867, -36.7327 -...\n",
       "3  56894      CAR  MULTIPOLYGON (((-36.65406 -9.59078, -36.65379 ...\n",
       "4  58371      CAR  MULTIPOLYGON (((-37.50167 -9.29629, -37.5036 -..."
      ]
     },
     "execution_count": 133,
     "metadata": {},
     "output_type": "execute_result"
    }
   ],
   "source": [
    "input_gdf=gpd.read_parquet('/home/pedro/Documents/GIT_WORKSPACE/split_offdb/inputs/input.parquet')\n",
    "input_gdf.head()"
   ]
  },
  {
   "cell_type": "code",
   "execution_count": 145,
   "metadata": {},
   "outputs": [
    {
     "data": {
      "text/plain": [
       "(-36.49894133, -9.50444, -36.49744226, -9.49749882)"
      ]
     },
     "execution_count": 145,
     "metadata": {},
     "output_type": "execute_result"
    }
   ],
   "source": [
    "# Cria um índice espacial para `input_gdf`\n",
    "input_sindex = input_gdf.sindex\n",
    "\n",
    "# Filtra apenas as geometrias que têm bbox sobrepondo `unidade_split`\n",
    "possible_matches_index = list(input_sindex.intersection(unidade_split.bounds))\n",
    "possible_matches = input_gdf.iloc[possible_matches_index]\n",
    "possible_matches.reset_index(inplace=True)\n",
    "possible_matches['geom'][0].bounds"
   ]
  },
  {
   "cell_type": "code",
   "execution_count": 135,
   "metadata": {},
   "outputs": [
    {
     "name": "stdout",
     "output_type": "stream",
     "text": [
      "Eliminando geometria inválida\n",
      "Eliminando geometria inválida\n",
      "Eliminando geometria inválida\n",
      "Eliminando geometria inválida\n"
     ]
    }
   ],
   "source": [
    "intersections=[]\n",
    "intersecting_ids=[]\n",
    "# Filtra apenas as interseções reais\n",
    "for index, row in possible_matches.iterrows():\n",
    "    geom=row.geom\n",
    "    if isinstance(geom, Polygon):\n",
    "        geom=geom\n",
    "    elif isinstance(geom, MultiPolygon):\n",
    "        geom=geom.geoms[0]\n",
    "\n",
    "\n",
    "        \n",
    "    if geom.is_valid:\n",
    "        intersection = unidade_split.intersection(geom)\n",
    "        if isinstance(intersection, Polygon):\n",
    "            intersection=intersection\n",
    "        elif isinstance(intersection, MultiPolygon):\n",
    "            intersection=intersection.geoms[0]\n",
    "\n",
    "    else:\n",
    "        print('Eliminando geometria inválida')\n",
    "\n",
    "    \n",
    "    # Checa se a interseção é válida e não está vazia\n",
    "    if not intersection.is_empty and intersection.is_valid:\n",
    "        intersections.append(intersection)\n",
    "        intersecting_ids.append(row['id'])  # Armazena o 'id' da geometria original\n",
    "    else:\n",
    "        print('Eliminando geometria inválida ou vazia')\n",
    "\n",
    "\n",
    "gdf_input_intersection = gpd.GeoDataFrame(\n",
    "    data={'id': intersecting_ids, 'geom': intersections},  # Inclui o ID original da geometria que intersectou\n",
    "    geometry='geom',\n",
    "    crs='EPSG:4674')\n",
    "\n",
    "polys=[geom for geom in gdf_input_intersection.geom]\n"
   ]
  },
  {
   "cell_type": "code",
   "execution_count": 137,
   "metadata": {},
   "outputs": [],
   "source": [
    "gdf_input_intersection.to_parquet('/home/pedro/Documents/GIT_WORKSPACE/split_offdb/dev/grid_24_al.parquet')"
   ]
  }
 ],
 "metadata": {
  "kernelspec": {
   "display_name": "_split_offdb",
   "language": "python",
   "name": "python3"
  },
  "language_info": {
   "codemirror_mode": {
    "name": "ipython",
    "version": 3
   },
   "file_extension": ".py",
   "mimetype": "text/x-python",
   "name": "python",
   "nbconvert_exporter": "python",
   "pygments_lexer": "ipython3",
   "version": "3.10.12"
  }
 },
 "nbformat": 4,
 "nbformat_minor": 2
}
