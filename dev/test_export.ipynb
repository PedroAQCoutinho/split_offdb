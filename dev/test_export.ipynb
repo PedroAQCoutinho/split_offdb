{
 "cells": [
  {
   "cell_type": "code",
   "execution_count": 14,
   "metadata": {},
   "outputs": [],
   "source": [
    "import geopandas as gpd\n",
    "import sqlalchemy\n",
    "from dotenv import load_dotenv\n",
    "import json\n",
    "from sqlalchemy import create_engine\n",
    "import os\n",
    "os.chdir('/home/pedro_alves_coutinho_alumni_usp_/gitworkspace/split_offdb')"
   ]
  },
  {
   "cell_type": "code",
   "execution_count": 10,
   "metadata": {},
   "outputs": [],
   "source": [
    "with open('config.json') as file:\n",
    "    config = json.load(file)\n",
    "\n",
    "input_file = config['input_file']\n",
    "grid_file = config['grid_file']"
   ]
  },
  {
   "cell_type": "code",
   "execution_count": 22,
   "metadata": {},
   "outputs": [],
   "source": [
    "load_dotenv()\n",
    "db_host=os.getenv('DB_HOST')\n",
    "db_password=os.getenv('DB_PASSWORD')\n",
    "db_user=os.getenv('DB_USER')\n",
    "db_name=os.getenv('DB_NAME')\n",
    "db_port=os.getenv('DB_PORT')\n"
   ]
  },
  {
   "cell_type": "code",
   "execution_count": 24,
   "metadata": {},
   "outputs": [],
   "source": [
    "engine = create_engine(\n",
    "    f\"postgresql://{db_user}:{db_password}@{db_host}:{db_port}/{db_name}\"\n",
    ")"
   ]
  },
  {
   "cell_type": "code",
   "execution_count": 26,
   "metadata": {},
   "outputs": [],
   "source": [
    "query = f\"\"\"\n",
    "SELECT c.ogc_fid AS id, \n",
    "        'CAR' AS id_layer, \n",
    "        ST_CollectionExtract(c.geom,3) geom \n",
    "FROM car.car_mv c;\n",
    "\"\"\""
   ]
  },
  {
   "cell_type": "code",
   "execution_count": 27,
   "metadata": {},
   "outputs": [],
   "source": [
    "gdf = gpd.read_postgis(query, engine, geom_col=\"geom\") "
   ]
  },
  {
   "cell_type": "code",
   "execution_count": 28,
   "metadata": {},
   "outputs": [
    {
     "data": {
      "text/html": [
       "<div>\n",
       "<style scoped>\n",
       "    .dataframe tbody tr th:only-of-type {\n",
       "        vertical-align: middle;\n",
       "    }\n",
       "\n",
       "    .dataframe tbody tr th {\n",
       "        vertical-align: top;\n",
       "    }\n",
       "\n",
       "    .dataframe thead th {\n",
       "        text-align: right;\n",
       "    }\n",
       "</style>\n",
       "<table border=\"1\" class=\"dataframe\">\n",
       "  <thead>\n",
       "    <tr style=\"text-align: right;\">\n",
       "      <th></th>\n",
       "      <th>id</th>\n",
       "      <th>id_layer</th>\n",
       "      <th>geom</th>\n",
       "    </tr>\n",
       "  </thead>\n",
       "  <tbody>\n",
       "    <tr>\n",
       "      <th>0</th>\n",
       "      <td>162303</td>\n",
       "      <td>CAR</td>\n",
       "      <td>MULTIPOLYGON (((-66.8472 -9.85571, -66.86137 -...</td>\n",
       "    </tr>\n",
       "    <tr>\n",
       "      <th>1</th>\n",
       "      <td>172074</td>\n",
       "      <td>CAR</td>\n",
       "      <td>MULTIPOLYGON (((-67.08574 -9.92848, -67.09643 ...</td>\n",
       "    </tr>\n",
       "    <tr>\n",
       "      <th>2</th>\n",
       "      <td>188051</td>\n",
       "      <td>CAR</td>\n",
       "      <td>MULTIPOLYGON (((-66.96605 -10.07522, -66.96386...</td>\n",
       "    </tr>\n",
       "    <tr>\n",
       "      <th>3</th>\n",
       "      <td>132626</td>\n",
       "      <td>CAR</td>\n",
       "      <td>MULTIPOLYGON (((-67.09102 -10.06825, -67.10732...</td>\n",
       "    </tr>\n",
       "    <tr>\n",
       "      <th>4</th>\n",
       "      <td>132577</td>\n",
       "      <td>CAR</td>\n",
       "      <td>MULTIPOLYGON (((-66.94459 -10.08046, -66.94652...</td>\n",
       "    </tr>\n",
       "  </tbody>\n",
       "</table>\n",
       "</div>"
      ],
      "text/plain": [
       "       id id_layer                                               geom\n",
       "0  162303      CAR  MULTIPOLYGON (((-66.8472 -9.85571, -66.86137 -...\n",
       "1  172074      CAR  MULTIPOLYGON (((-67.08574 -9.92848, -67.09643 ...\n",
       "2  188051      CAR  MULTIPOLYGON (((-66.96605 -10.07522, -66.96386...\n",
       "3  132626      CAR  MULTIPOLYGON (((-67.09102 -10.06825, -67.10732...\n",
       "4  132577      CAR  MULTIPOLYGON (((-66.94459 -10.08046, -66.94652..."
      ]
     },
     "execution_count": 28,
     "metadata": {},
     "output_type": "execute_result"
    }
   ],
   "source": [
    "gdf.head()"
   ]
  },
  {
   "cell_type": "code",
   "execution_count": 31,
   "metadata": {},
   "outputs": [],
   "source": [
    "gdf.to_parquet(input_file)"
   ]
  }
 ],
 "metadata": {
  "kernelspec": {
   "display_name": "Python 3 (ipykernel)",
   "language": "python",
   "name": "python3"
  },
  "language_info": {
   "codemirror_mode": {
    "name": "ipython",
    "version": 3
   },
   "file_extension": ".py",
   "mimetype": "text/x-python",
   "name": "python",
   "nbconvert_exporter": "python",
   "pygments_lexer": "ipython3",
   "version": "3.10.12"
  }
 },
 "nbformat": 4,
 "nbformat_minor": 2
}
